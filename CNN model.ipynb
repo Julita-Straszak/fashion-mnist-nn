{
 "cells": [
  {
   "cell_type": "markdown",
   "metadata": {},
   "source": [
    "### Imports"
   ]
  },
  {
   "cell_type": "code",
   "execution_count": 13,
   "metadata": {
    "collapsed": false
   },
   "outputs": [
    {
     "name": "stdout",
     "output_type": "stream",
     "text": [
      "Extracting /Users/julitastraszak/Documents/GitHub/fashion-mnist/data/fashion/train-images-idx3-ubyte.gz\n",
      "Extracting /Users/julitastraszak/Documents/GitHub/fashion-mnist/data/fashion/train-labels-idx1-ubyte.gz\n",
      "Extracting /Users/julitastraszak/Documents/GitHub/fashion-mnist/data/fashion/t10k-images-idx3-ubyte.gz\n",
      "Extracting /Users/julitastraszak/Documents/GitHub/fashion-mnist/data/fashion/t10k-labels-idx1-ubyte.gz\n",
      "Extracting /Users/julitastraszak/Documents/GitHub/fashion-mnist/data/mnist/train-images-idx3-ubyte.gz\n",
      "Extracting /Users/julitastraszak/Documents/GitHub/fashion-mnist/data/mnist/train-labels-idx1-ubyte.gz\n",
      "Extracting /Users/julitastraszak/Documents/GitHub/fashion-mnist/data/mnist/t10k-images-idx3-ubyte.gz\n",
      "Extracting /Users/julitastraszak/Documents/GitHub/fashion-mnist/data/mnist/t10k-labels-idx1-ubyte.gz\n"
     ]
    }
   ],
   "source": [
    "# Import libraries\n",
    "import numpy as np\n",
    "import matplotlib.pyplot as plt\n",
    "import seaborn as sns\n",
    "import tensorflow as tf\n",
    "from tensorflow.python.framework import ops\n",
    "import time\n",
    "\n",
    "%matplotlib inline\n",
    "%config InlineBackend.figure_format='retina'\n",
    "\n",
    "from tensorflow.examples.tutorials.mnist import input_data\n",
    "\n",
    "# Import Fashion MNIST data with one-hot encoding\n",
    "dir_fashion = '/Users/julitastraszak/Documents/GitHub/fashion-mnist/data/fashion/'\n",
    "fashion_mnist = input_data.read_data_sets(dir_fashion, one_hot=True)\n",
    "\n",
    "dir_mnist = '/Users/julitastraszak/Documents/GitHub/fashion-mnist/data/mnist/'\n",
    "mnist = input_data.read_data_sets(dir_mnist, one_hot=True)"
   ]
  },
  {
   "cell_type": "markdown",
   "metadata": {},
   "source": [
    "## Building our neural network"
   ]
  },
  {
   "cell_type": "markdown",
   "metadata": {},
   "source": [
    "### Setting network parameters\n",
    "\n",
    "First, let's set some parameters for our network. This includes information about the number of units in each layer, shape of inputs, number of output classes, and number of examples."
   ]
  },
  {
   "cell_type": "code",
   "execution_count": 2,
   "metadata": {
    "collapsed": true
   },
   "outputs": [],
   "source": [
    "# Network parameters\n",
    "n_hidden_1 = 128 # Units in first hidden layer\n",
    "n_hidden_2 = 128 # Units in second hidden layer\n",
    "n_input = 784 # Fashion MNIST data input (img shape: 28*28)\n",
    "n_classes = 10 # Fashion MNIST total classes (0-9 digits)\n",
    "n_samples = fashion_mnist.train.num_examples"
   ]
  },
  {
   "cell_type": "markdown",
   "metadata": {},
   "source": [
    "### Creating Placeholders\n",
    "\n",
    "Next, let's set up a function that creates placeholders for `X` and `Y`, using which we will later pass training data while running our network."
   ]
  },
  {
   "cell_type": "code",
   "execution_count": 3,
   "metadata": {
    "collapsed": true
   },
   "outputs": [],
   "source": [
    "# Create placeholders\n",
    "def create_placeholders(n_x, n_y):\n",
    "    \"\"\"\n",
    "    Creates the placeholders for the tensorflow session.\n",
    "    \n",
    "    Arguments:\n",
    "    n_x -- scalar, size of an image vector (28*28 = 784)\n",
    "    n_y -- scalar, number of classes (from 0 to 9, so -> 10)\n",
    "    \n",
    "    Returns:\n",
    "    X -- placeholder for the data input, of shape [n_x, None] and dtype \"float\"\n",
    "    Y -- placeholder for the input labels, of shape [n_y, None] and dtype \"float\"\n",
    "    \"\"\"\n",
    "    \n",
    "    X = tf.placeholder(tf.float32, [n_x, None], name=\"X\")\n",
    "    Y = tf.placeholder(tf.float32, [n_y, None], name=\"Y\")\n",
    "    \n",
    "    return X, Y"
   ]
  },
  {
   "cell_type": "code",
   "execution_count": 4,
   "metadata": {
    "collapsed": false
   },
   "outputs": [
    {
     "name": "stdout",
     "output_type": "stream",
     "text": [
      "Shape of X: (784, ?)\n",
      "Shape of Y: (10, ?)\n"
     ]
    }
   ],
   "source": [
    "# Test create_placeholders()\n",
    "X, Y = create_placeholders(n_input, n_classes)\n",
    "\n",
    "print(\"Shape of X: {shape}\".format(shape=X.shape))\n",
    "print(\"Shape of Y: {shape}\".format(shape=Y.shape))"
   ]
  },
  {
   "cell_type": "markdown",
   "metadata": {},
   "source": [
    "### Initializing parameters\n",
    "\n",
    "After creating placeholders, we will have to initialize the weights and biases for each layer in our 3-layer neural network.\n",
    "\n",
    "This implementation uses the **Xavier initialization** for weights, and a **Zero initialization** for biases."
   ]
  },
  {
   "cell_type": "code",
   "execution_count": 5,
   "metadata": {
    "collapsed": true
   },
   "outputs": [],
   "source": [
    "def initialize_parameters():\n",
    "    \"\"\"\n",
    "    Initializes parameters to build a neural network with tensorflow. The shapes are:\n",
    "                        W1 : [n_hidden_1, n_input]\n",
    "                        b1 : [n_hidden_1, 1]\n",
    "                        W2 : [n_hidden_2, n_hidden_1]\n",
    "                        b2 : [n_hidden_2, 1]\n",
    "                        W3 : [n_classes, n_hidden_2]\n",
    "                        b3 : [n_classes, 1]\n",
    "    \n",
    "    Returns:\n",
    "    parameters -- a dictionary of tensors containing W1, b1, W2, b2, W3, b3\n",
    "    \"\"\"\n",
    "    \n",
    "    # Set random seed for reproducibility\n",
    "    tf.set_random_seed(42)\n",
    "    \n",
    "    # Initialize weights and biases for each layer\n",
    "    W1 = tf.get_variable(\"W1\", [n_hidden_1, n_input], initializer=tf.contrib.layers.xavier_initializer(seed=42))\n",
    "    b1 = tf.get_variable(\"b1\", [n_hidden_1, 1], initializer=tf.zeros_initializer())\n",
    "    \n",
    "    W2 = tf.get_variable(\"W2\", [n_hidden_2, n_hidden_1], initializer=tf.contrib.layers.xavier_initializer(seed=42))\n",
    "    b2 = tf.get_variable(\"b2\", [n_hidden_2, 1], initializer=tf.zeros_initializer())\n",
    "    \n",
    "    W3 = tf.get_variable(\"W3\", [n_classes, n_hidden_2], initializer=tf.contrib.layers.xavier_initializer(seed=42))\n",
    "    b3 = tf.get_variable(\"b3\", [n_classes, 1], initializer=tf.zeros_initializer())\n",
    "    \n",
    "    # Store initializations as a dictionary of parameters\n",
    "    parameters = {\n",
    "        \"W1\": W1,\n",
    "        \"b1\": b1,\n",
    "        \"W2\": W2,\n",
    "        \"b2\": b2,\n",
    "        \"W3\": W3,\n",
    "        \"b3\": b3\n",
    "    }\n",
    "    \n",
    "    return parameters"
   ]
  },
  {
   "cell_type": "code",
   "execution_count": 6,
   "metadata": {
    "collapsed": false
   },
   "outputs": [
    {
     "name": "stdout",
     "output_type": "stream",
     "text": [
      "W1 = <tf.Variable 'W1:0' shape=(128, 784) dtype=float32_ref>\n",
      "b1 = <tf.Variable 'b1:0' shape=(128, 1) dtype=float32_ref>\n",
      "W2 = <tf.Variable 'W2:0' shape=(128, 128) dtype=float32_ref>\n",
      "b2 = <tf.Variable 'b2:0' shape=(128, 1) dtype=float32_ref>\n"
     ]
    }
   ],
   "source": [
    "# Test initialize_parameters()\n",
    "tf.reset_default_graph()\n",
    "with tf.Session() as sess:\n",
    "    parameters = initialize_parameters()\n",
    "    print(\"W1 = {w1}\".format(w1=parameters[\"W1\"]))\n",
    "    print(\"b1 = {b1}\".format(b1=parameters[\"b1\"]))\n",
    "    print(\"W2 = {w2}\".format(w2=parameters[\"W2\"]))\n",
    "    print(\"b2 = {b2}\".format(b2=parameters[\"b2\"]))"
   ]
  },
  {
   "cell_type": "markdown",
   "metadata": {},
   "source": [
    "As expected, our parameters haven't been initialized yet."
   ]
  },
  {
   "cell_type": "markdown",
   "metadata": {},
   "source": [
    "### Model\n",
    "\n",
    "`LINEAR -> RELU -> LINEAR -> RELU -> LINEAR -> SOFTMAX`\n",
    "\n",
    "`LINEAR`: $$ Z^{[l]} = W^{[l]}A^{[l-1]} + b $$\n",
    "\n",
    "`RELU`: $$ A^{[l]} = max ( 0, Z^{[l]} ) $$\n",
    "\n",
    "### Forward Propagation\n",
    "\n",
    "Next, let's implement forward propagation. This function will take in a dictionary of parameters and the input (`X`), to complete the forward pass. It will return the output from the last layer."
   ]
  },
  {
   "cell_type": "code",
   "execution_count": 7,
   "metadata": {
    "collapsed": true
   },
   "outputs": [],
   "source": [
    "def forward_propagation(X, parameters):\n",
    "    \"\"\"\n",
    "    Implements the forward propagation for the model: LINEAR -> RELU -> LINEAR -> RELU -> LINEAR -> SOFTMAX\n",
    "    \n",
    "    Arguments:\n",
    "    X -- input dataset placeholder, of shape (input size, number of examples)\n",
    "    parameters -- python dictionary containing your parameters \"W1\", \"b1\", \"W2\", \"b2\", \"W3\", \"b3\"\n",
    "                  the shapes are given in initialize_parameters\n",
    "\n",
    "    Returns:\n",
    "    Z3 -- the output of the last LINEAR unit\n",
    "    \"\"\"\n",
    "    \n",
    "    # Retrieve parameters from dictionary\n",
    "    W1 = parameters['W1']\n",
    "    b1 = parameters['b1']\n",
    "    W2 = parameters['W2']\n",
    "    b2 = parameters['b2']\n",
    "    W3 = parameters['W3']\n",
    "    b3 = parameters['b3']\n",
    "    \n",
    "    # Carry out forward propagation      # Numpy equivalents:\n",
    "    Z1 = tf.add(tf.matmul(W1,X), b1)     # Z1 = np.dot(W1, X) + b1\n",
    "    A1 = tf.nn.relu(Z1)                  # A1 = relu(Z1)\n",
    "    Z2 = tf.add(tf.matmul(W2,A1), b2)    # Z2 = np.dot(W2, a1) + b2\n",
    "    A2 = tf.nn.relu(Z2)                  # A2 = relu(Z2)\n",
    "    Z3 = tf.add(tf.matmul(W3,A2), b3)    # Z3 = np.dot(W3,Z2) + b3\n",
    "    \n",
    "    return Z3"
   ]
  },
  {
   "cell_type": "code",
   "execution_count": 8,
   "metadata": {
    "collapsed": false
   },
   "outputs": [
    {
     "name": "stdout",
     "output_type": "stream",
     "text": [
      "Z3 = Tensor(\"Add_2:0\", shape=(10, ?), dtype=float32)\n"
     ]
    }
   ],
   "source": [
    "# Test forward_propagation()\n",
    "tf.reset_default_graph()\n",
    "\n",
    "with tf.Session() as sess:\n",
    "    X, Y = create_placeholders(n_input, n_classes)\n",
    "    parameters = initialize_parameters()\n",
    "    Z3 = forward_propagation(X, parameters)\n",
    "    print(\"Z3 = {final_Z}\".format(final_Z=Z3))"
   ]
  },
  {
   "cell_type": "markdown",
   "metadata": {},
   "source": [
    "### Compute Cost\n",
    "\n",
    "Next, let's create a function which computes the cost based on the difference between our outputs (`Z3`) and the correct labels (`Y`).\n",
    "\n",
    "`SOFTMAX: `\n",
    "\n",
    "`tf.reduce_mean(tf.nn.softmax_cross_entropy_with_logits(...))` "
   ]
  },
  {
   "cell_type": "code",
   "execution_count": 9,
   "metadata": {
    "collapsed": true
   },
   "outputs": [],
   "source": [
    "def compute_cost(Z3, Y):\n",
    "    \"\"\"\n",
    "    Computes the cost\n",
    "    \n",
    "    Arguments:\n",
    "    Z3 -- output of forward propagation (output of the last LINEAR unit), of shape (10, number_of_examples)\n",
    "    Y -- \"true\" labels vector placeholder, same shape as Z3\n",
    "    \n",
    "    Returns:\n",
    "    cost - Tensor of the cost function\n",
    "    \"\"\"\n",
    "    \n",
    "    # Get logits (predictions) and labels\n",
    "    logits = tf.transpose(Z3)\n",
    "    labels = tf.transpose(Y)\n",
    "    \n",
    "    # Compute cost\n",
    "    cost = tf.reduce_mean(tf.nn.softmax_cross_entropy_with_logits(logits=logits, labels=labels))\n",
    "    \n",
    "    return cost"
   ]
  },
  {
   "cell_type": "code",
   "execution_count": 10,
   "metadata": {
    "collapsed": false
   },
   "outputs": [
    {
     "name": "stdout",
     "output_type": "stream",
     "text": [
      "WARNING:tensorflow:From <ipython-input-9-e6a09c589690>:18: softmax_cross_entropy_with_logits (from tensorflow.python.ops.nn_ops) is deprecated and will be removed in a future version.\n",
      "Instructions for updating:\n",
      "\n",
      "Future major versions of TensorFlow will allow gradients to flow\n",
      "into the labels input on backprop by default.\n",
      "\n",
      "See @{tf.nn.softmax_cross_entropy_with_logits_v2}.\n",
      "\n",
      "cost = Tensor(\"Mean:0\", shape=(), dtype=float32)\n"
     ]
    }
   ],
   "source": [
    "# Test compute_cost()\n",
    "tf.reset_default_graph()\n",
    "\n",
    "with tf.Session() as sess:\n",
    "    X, Y = create_placeholders(n_input, n_classes)\n",
    "    parameters = initialize_parameters()\n",
    "    Z3 = forward_propagation(X, parameters)\n",
    "    cost = compute_cost(Z3, Y)\n",
    "    print(\"cost = {cost}\".format(cost=cost))"
   ]
  },
  {
   "cell_type": "markdown",
   "metadata": {},
   "source": [
    "### Backpropagation\n",
    "\n",
    "We will use the Adam optimizer in this implementation.\n",
    "\n",
    "`optimizer = tf.train.AdamOptimizer(learning_rate).minimize(cost)`\n",
    "\n",
    "\n",
    "### Building the model\n",
    "\n",
    "Finally, let's combine our previously created functions into one single function called `model()` and run our network."
   ]
  },
  {
   "cell_type": "code",
   "execution_count": 11,
   "metadata": {
    "collapsed": true
   },
   "outputs": [],
   "source": [
    "def model(train, test, learning_rate=0.0001, num_epochs=16, minibatch_size=32, print_cost=True, graph_filename='costs'):\n",
    "    \"\"\"\n",
    "    Implements a three-layer tensorflow neural network: LINEAR->RELU->LINEAR->RELU->LINEAR->SOFTMAX.\n",
    "    \n",
    "    Arguments:\n",
    "    train -- training set\n",
    "    test -- test set\n",
    "    learning_rate -- learning rate of the optimization\n",
    "    num_epochs -- number of epochs of the optimization loop\n",
    "    minibatch_size -- size of a minibatch\n",
    "    print_cost -- True to print the cost every epoch\n",
    "    \n",
    "    Returns:\n",
    "    parameters -- parameters learnt by the model. They can then be used to predict.\n",
    "    \"\"\"\n",
    "    \n",
    "    # Ensure that model can be rerun without overwriting tf variables\n",
    "    ops.reset_default_graph()\n",
    "    # For reproducibility\n",
    "    tf.set_random_seed(42)\n",
    "    seed = 42\n",
    "    # Get input and output shapes\n",
    "    (n_x, m) = train.images.T.shape\n",
    "    n_y = train.labels.T.shape[0]\n",
    "    \n",
    "    costs = []\n",
    "    \n",
    "    # Create placeholders of shape (n_x, n_y)\n",
    "    X, Y = create_placeholders(n_x, n_y)\n",
    "    # Initialize parameters\n",
    "    parameters = initialize_parameters()\n",
    "    \n",
    "    # Forward propagation\n",
    "    Z3 = forward_propagation(X, parameters)\n",
    "    # Cost function\n",
    "    cost = compute_cost(Z3, Y)\n",
    "    # Backpropagation (using Adam optimizer)\n",
    "    optimizer = tf.train.AdamOptimizer(learning_rate).minimize(cost)\n",
    "    \n",
    "    # Initialize variables\n",
    "    init = tf.global_variables_initializer()\n",
    "    \n",
    "    # Start session to compute Tensorflow graph\n",
    "    with tf.Session() as sess:\n",
    "        \n",
    "        # Run initialization\n",
    "        sess.run(init)\n",
    "        \n",
    "        # Training loop\n",
    "        for epoch in range(num_epochs):\n",
    "            \n",
    "            epoch_cost = 0.\n",
    "            num_minibatches = int(m / minibatch_size)\n",
    "            seed = seed + 1\n",
    "            \n",
    "            for i in range(num_minibatches):\n",
    "                \n",
    "                # Get next batch of training data and labels\n",
    "                minibatch_X, minibatch_Y = train.next_batch(minibatch_size)\n",
    "                \n",
    "                # Execute optimizer and cost function\n",
    "                _, minibatch_cost = sess.run([optimizer, cost], feed_dict={X: minibatch_X.T, Y: minibatch_Y.T})\n",
    "                \n",
    "                # Update epoch cost\n",
    "                epoch_cost += minibatch_cost / num_minibatches\n",
    "                \n",
    "            # Print the cost every epoch\n",
    "            if print_cost == True:\n",
    "                print(\"Cost after epoch {epoch_num}: {cost}\".format(epoch_num=epoch, cost=epoch_cost))\n",
    "                costs.append(epoch_cost)\n",
    "        \n",
    "        # Plot costs\n",
    "        plt.figure(figsize=(16,5))\n",
    "        plt.plot(np.squeeze(costs), color='#2A688B')\n",
    "        plt.xlim(0, num_epochs-1)\n",
    "        plt.ylabel(\"cost\")\n",
    "        plt.xlabel(\"iterations\")\n",
    "        plt.title(\"learning rate = {rate}\".format(rate=learning_rate))\n",
    "        plt.savefig(graph_filename, dpi=300)\n",
    "        plt.show()\n",
    "        \n",
    "        # Save parameters\n",
    "        parameters = sess.run(parameters)\n",
    "        print(\"Parameters have been trained!\")\n",
    "        \n",
    "        # Calculate correct predictions\n",
    "        correct_prediction = tf.equal(tf.argmax(Z3), tf.argmax(Y))\n",
    "        \n",
    "        # Calculate accuracy on test set\n",
    "        accuracy = tf.reduce_mean(tf.cast(correct_prediction, \"float\"))\n",
    "        \n",
    "        print (\"Train Accuracy:\", accuracy.eval({X: train.images.T, Y: train.labels.T}))\n",
    "        print (\"Test Accuracy:\", accuracy.eval({X: test.images.T, Y: test.labels.T}))\n",
    "        \n",
    "        return parameters"
   ]
  },
  {
   "cell_type": "code",
   "execution_count": 14,
   "metadata": {
    "collapsed": false
   },
   "outputs": [
    {
     "name": "stdout",
     "output_type": "stream",
     "text": [
      "Cost after epoch 0: 0.5204929260057816\n",
      "Cost after epoch 1: 0.37783159908857084\n",
      "Cost after epoch 2: 0.33703891509044537\n",
      "Cost after epoch 3: 0.3122197238682867\n",
      "Cost after epoch 4: 0.2947722234491071\n",
      "Cost after epoch 5: 0.27982191437892245\n",
      "Cost after epoch 6: 0.2668604977598045\n",
      "Cost after epoch 7: 0.2543469196666854\n",
      "Cost after epoch 8: 0.24580532389696205\n",
      "Cost after epoch 9: 0.23421568517075517\n",
      "Cost after epoch 10: 0.22383073179975016\n",
      "Cost after epoch 11: 0.21715903666187036\n",
      "Cost after epoch 12: 0.20989836508254234\n",
      "Cost after epoch 13: 0.2002474414325632\n",
      "Cost after epoch 14: 0.1954157367723801\n",
      "Cost after epoch 15: 0.18605609283846541\n"
     ]
    },
    {
     "data": {
      "image/png": "[encoded data removed]",
      "text/plain": [
       "<Figure size 1152x360 with 1 Axes>"
      ]
     },
     "metadata": {
      "image/png": {
       "height": 331,
       "width": 951
      }
     },
     "output_type": "display_data"
    },
    {
     "name": "stdout",
     "output_type": "stream",
     "text": [
      "Parameters have been trained!\n",
      "Train Accuracy: 0.93601817\n",
      "Test Accuracy: 0.888\n",
      "66.01146221160889\n"
     ]
    }
   ],
   "source": [
    "# Running our model on Fashion MNIST\n",
    "start = time.time()\n",
    "\n",
    "train = fashion_mnist.train\n",
    "test = fashion_mnist.test\n",
    "\n",
    "parameters = model(train, test, learning_rate=0.0005, graph_filename='fashion_mnist_costs')\n",
    "\n",
    "end = time.time()\n",
    "time_cnn=(end - start)\n",
    "print(time_cnn)"
   ]
  },
  {
   "cell_type": "code",
   "execution_count": null,
   "metadata": {
    "collapsed": true
   },
   "outputs": [],
   "source": []
  }
 ],
 "metadata": {
  "anaconda-cloud": {},
  "kernelspec": {
   "display_name": "Python [default]",
   "language": "python",
   "name": "python3"
  },
  "language_info": {
   "codemirror_mode": {
    "name": "ipython",
    "version": 3
   },
   "file_extension": ".py",
   "mimetype": "text/x-python",
   "name": "python",
   "nbconvert_exporter": "python",
   "pygments_lexer": "ipython3",
   "version": "3.5.2"
  }
 },
 "nbformat": 4,
 "nbformat_minor": 2
}
